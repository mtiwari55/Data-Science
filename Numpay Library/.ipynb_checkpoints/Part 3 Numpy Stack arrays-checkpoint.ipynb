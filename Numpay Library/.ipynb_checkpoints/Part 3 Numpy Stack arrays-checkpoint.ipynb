{
 "cells": [
  {
   "cell_type": "code",
   "execution_count": 16,
   "metadata": {},
   "outputs": [
    {
     "name": "stdout",
     "output_type": "stream",
     "text": [
      "[[0 2]\n",
      " [4 3]\n",
      " [5 0]]\n"
     ]
    }
   ],
   "source": [
    "# Stack arrays\n",
    "\n",
    "# Stack flat arrays in columns\n",
    "\n",
    "# stack is use for columns\n",
    "\n",
    "\n",
    "import numpy as np\n",
    "\n",
    "a = np.array([0, 4, 5])\n",
    "\n",
    "#print(a)\n",
    "b = np.array([2, 3,0])\n",
    "#print(b)\n",
    "\n",
    "ab = np.stack((a, b)).T\n",
    "print(ab)"
   ]
  },
  {
   "cell_type": "code",
   "execution_count": 31,
   "metadata": {},
   "outputs": [
    {
     "name": "stdout",
     "output_type": "stream",
     "text": [
      "[[ 0.  1.  2.  3.  4.  5.  6.  7.  8.]\n",
      " [ 9. 10. 11. 12. 13. 14. 15. 16. 17.]\n",
      " [18. 19. 20. 21. 22. 23. 24. 25. 26.]\n",
      " [27. 28. 29. 30. 31. 32. 33. 34. 35.]\n",
      " [36. 37. 38. 39. 40. 41. 42. 43. 44.]\n",
      " [45. 46. 47. 48. 49. 50. 51. 52. 53.]\n",
      " [54. 55. 56. 57. 58. 59. 60. 61. 62.]\n",
      " [63. 64. 65. 66. 67. 68. 69. 70. 71.]\n",
      " [72. 73. 74. 75. 76. 77. 78. 79. 80.]]\n"
     ]
    }
   ],
   "source": [
    "arr = np.arange(81, dtype=float).reshape((9, 9))\n",
    "\n",
    "print(arr)"
   ]
  },
  {
   "cell_type": "code",
   "execution_count": 32,
   "metadata": {},
   "outputs": [
    {
     "data": {
      "text/plain": [
       "array([[ 0.,  1.,  2.,  3.,  4.,  5.,  6.,  7.,  8.],\n",
       "       [ 9., 10., 11., 12., 13., 14., 15., 16., 17.],\n",
       "       [18., 19., 20., 21., 22., 23., 24., 25., 26.],\n",
       "       [27., 28., 29., 30., 31., 32., 33., 34., 35.],\n",
       "       [36., 37., 38., 39., 40., 41., 42., 43., 44.],\n",
       "       [45., 46., 47., 48., 49., 50., 51., 52., 53.],\n",
       "       [54., 55., 56., 57., 58., 59., 60., 61., 62.],\n",
       "       [63., 64., 65., 66., 67., 68., 69., 70., 71.],\n",
       "       [72., 73., 74., 75., 76., 77., 78., 79., 80.]])"
      ]
     },
     "execution_count": 32,
     "metadata": {},
     "output_type": "execute_result"
    }
   ],
   "source": [
    "# Slicing\n",
    "\n",
    "arr[0:]"
   ]
  },
  {
   "cell_type": "code",
   "execution_count": 33,
   "metadata": {},
   "outputs": [
    {
     "data": {
      "text/plain": [
       "array([], shape=(0, 9), dtype=float64)"
      ]
     },
     "execution_count": 33,
     "metadata": {},
     "output_type": "execute_result"
    }
   ],
   "source": [
    "arr[:0]"
   ]
  },
  {
   "cell_type": "code",
   "execution_count": 36,
   "metadata": {},
   "outputs": [
    {
     "data": {
      "text/plain": [
       "array([[ 0.,  1.,  2.,  3.,  4.],\n",
       "       [ 9., 10., 11., 12., 13.],\n",
       "       [18., 19., 20., 21., 22.],\n",
       "       [27., 28., 29., 30., 31.],\n",
       "       [36., 37., 38., 39., 40.],\n",
       "       [45., 46., 47., 48., 49.],\n",
       "       [54., 55., 56., 57., 58.],\n",
       "       [63., 64., 65., 66., 67.],\n",
       "       [72., 73., 74., 75., 76.]])"
      ]
     },
     "execution_count": 36,
     "metadata": {},
     "output_type": "execute_result"
    }
   ],
   "source": [
    "arr[:,:5]"
   ]
  },
  {
   "cell_type": "code",
   "execution_count": 37,
   "metadata": {},
   "outputs": [
    {
     "ename": "NameError",
     "evalue": "name 'arr2' is not defined",
     "output_type": "error",
     "traceback": [
      "\u001b[1;31m---------------------------------------------------------------------------\u001b[0m",
      "\u001b[1;31mNameError\u001b[0m                                 Traceback (most recent call last)",
      "\u001b[1;32m<ipython-input-37-ebab984f78df>\u001b[0m in \u001b[0;36m<module>\u001b[1;34m\u001b[0m\n\u001b[1;32m----> 1\u001b[1;33m \u001b[0marr2\u001b[0m\u001b[1;33m[\u001b[0m\u001b[1;36m0\u001b[0m\u001b[1;33m,\u001b[0m \u001b[1;36m0\u001b[0m\u001b[1;33m]\u001b[0m \u001b[1;33m=\u001b[0m \u001b[1;36m33\u001b[0m\u001b[1;33m\u001b[0m\u001b[1;33m\u001b[0m\u001b[0m\n\u001b[0m",
      "\u001b[1;31mNameError\u001b[0m: name 'arr2' is not defined"
     ]
    }
   ],
   "source": [
    "arr2[0, 0] = 33"
   ]
  },
  {
   "cell_type": "code",
   "execution_count": 41,
   "metadata": {},
   "outputs": [
    {
     "name": "stdout",
     "output_type": "stream",
     "text": [
      "<class 'range'>\n"
     ]
    }
   ],
   "source": [
    "print (type(range(0,10)))"
   ]
  },
  {
   "cell_type": "code",
   "execution_count": 43,
   "metadata": {},
   "outputs": [
    {
     "data": {
      "text/plain": [
       "array([1, 2, 3, 4, 5, 6, 7, 8, 9])"
      ]
     },
     "execution_count": 43,
     "metadata": {},
     "output_type": "execute_result"
    }
   ],
   "source": [
    "np.arange(1,10)"
   ]
  },
  {
   "cell_type": "code",
   "execution_count": 45,
   "metadata": {},
   "outputs": [
    {
     "name": "stdout",
     "output_type": "stream",
     "text": [
      "range(1, 10)\n"
     ]
    },
    {
     "data": {
      "text/plain": [
       "range"
      ]
     },
     "execution_count": 45,
     "metadata": {},
     "output_type": "execute_result"
    }
   ],
   "source": [
    "a = range(1,10)\n",
    "print(a)\n",
    "type(a)"
   ]
  },
  {
   "cell_type": "code",
   "execution_count": 54,
   "metadata": {},
   "outputs": [
    {
     "name": "stdout",
     "output_type": "stream",
     "text": [
      "[[ 0  2  4  6  8 10 12 14 16 18]\n",
      " [20 22 24 26 28 30 32 34 36 38]\n",
      " [40 42 44 46 48 50 52 54 56 58]\n",
      " [60 62 64 66 68 70 72 74 76 78]\n",
      " [80 82 84 86 88 90 92 94 96 98]]\n"
     ]
    },
    {
     "data": {
      "text/plain": [
       "5"
      ]
     },
     "execution_count": 54,
     "metadata": {},
     "output_type": "execute_result"
    }
   ],
   "source": [
    "# create 2d arrary with even number \n",
    "\n",
    "even = np.arange(0,100,2).reshape(5,10)\n",
    "print(even)\n",
    "len(even)"
   ]
  },
  {
   "cell_type": "code",
   "execution_count": null,
   "metadata": {},
   "outputs": [],
   "source": []
  }
 ],
 "metadata": {
  "kernelspec": {
   "display_name": "Python 3",
   "language": "python",
   "name": "python3"
  },
  "language_info": {
   "codemirror_mode": {
    "name": "ipython",
    "version": 3
   },
   "file_extension": ".py",
   "mimetype": "text/x-python",
   "name": "python",
   "nbconvert_exporter": "python",
   "pygments_lexer": "ipython3",
   "version": "3.7.3"
  }
 },
 "nbformat": 4,
 "nbformat_minor": 2
}
