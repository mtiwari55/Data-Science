{
 "cells": [
  {
   "cell_type": "code",
   "execution_count": null,
   "metadata": {},
   "outputs": [],
   "source": []
  },
  {
   "cell_type": "code",
   "execution_count": 2,
   "metadata": {},
   "outputs": [
    {
     "data": {
      "text/plain": [
       "'C:\\\\Users\\\\mantiwar\\\\Desktop\\\\Pythan-Prac\\\\Panda Library'"
      ]
     },
     "execution_count": 2,
     "metadata": {},
     "output_type": "execute_result"
    }
   ],
   "source": [
    "import pandas as pd\n",
    "import os\n",
    "\n",
    "getPath = os.getcwd()\n",
    "getPath"
   ]
  },
  {
   "cell_type": "code",
   "execution_count": 3,
   "metadata": {},
   "outputs": [],
   "source": [
    "cityW = pd.read_csv(getPath+\"\\\\CityWeather.csv\")"
   ]
  },
  {
   "cell_type": "code",
   "execution_count": 19,
   "metadata": {},
   "outputs": [
    {
     "data": {
      "text/html": [
       "<div>\n",
       "<style scoped>\n",
       "    .dataframe tbody tr th:only-of-type {\n",
       "        vertical-align: middle;\n",
       "    }\n",
       "\n",
       "    .dataframe tbody tr th {\n",
       "        vertical-align: top;\n",
       "    }\n",
       "\n",
       "    .dataframe thead th {\n",
       "        text-align: right;\n",
       "    }\n",
       "</style>\n",
       "<table border=\"1\" class=\"dataframe\">\n",
       "  <thead>\n",
       "    <tr style=\"text-align: right;\">\n",
       "      <th></th>\n",
       "      <th>Date</th>\n",
       "      <th>City</th>\n",
       "      <th>Temp</th>\n",
       "      <th>Wind</th>\n",
       "      <th>Event</th>\n",
       "    </tr>\n",
       "  </thead>\n",
       "  <tbody>\n",
       "    <tr>\n",
       "      <th>0</th>\n",
       "      <td>10-05-2019</td>\n",
       "      <td>Mumbai</td>\n",
       "      <td>32.0</td>\n",
       "      <td>9</td>\n",
       "      <td>Sunny</td>\n",
       "    </tr>\n",
       "    <tr>\n",
       "      <th>1</th>\n",
       "      <td>12-05-2019</td>\n",
       "      <td>Pune</td>\n",
       "      <td>21.0</td>\n",
       "      <td>7</td>\n",
       "      <td>Rain</td>\n",
       "    </tr>\n",
       "    <tr>\n",
       "      <th>2</th>\n",
       "      <td>14-05-2019</td>\n",
       "      <td>Goa</td>\n",
       "      <td>34.0</td>\n",
       "      <td>5</td>\n",
       "      <td>Sunny</td>\n",
       "    </tr>\n",
       "    <tr>\n",
       "      <th>3</th>\n",
       "      <td>15-05-2019</td>\n",
       "      <td>Mumbai</td>\n",
       "      <td>34.5</td>\n",
       "      <td>3</td>\n",
       "      <td>Sunny</td>\n",
       "    </tr>\n",
       "    <tr>\n",
       "      <th>4</th>\n",
       "      <td>16-05-2019</td>\n",
       "      <td>Goa</td>\n",
       "      <td>33.0</td>\n",
       "      <td>6</td>\n",
       "      <td>Snow</td>\n",
       "    </tr>\n",
       "    <tr>\n",
       "      <th>5</th>\n",
       "      <td>17-05-2019</td>\n",
       "      <td>Nashik</td>\n",
       "      <td>22.0</td>\n",
       "      <td>8</td>\n",
       "      <td>fog</td>\n",
       "    </tr>\n",
       "    <tr>\n",
       "      <th>6</th>\n",
       "      <td>18-05-2019</td>\n",
       "      <td>Ratan</td>\n",
       "      <td>34.0</td>\n",
       "      <td>9</td>\n",
       "      <td>Sunny</td>\n",
       "    </tr>\n",
       "    <tr>\n",
       "      <th>7</th>\n",
       "      <td>19-05-2019</td>\n",
       "      <td>Pune</td>\n",
       "      <td>22.0</td>\n",
       "      <td>3</td>\n",
       "      <td>Rain</td>\n",
       "    </tr>\n",
       "    <tr>\n",
       "      <th>8</th>\n",
       "      <td>20-05-2019</td>\n",
       "      <td>Mumbai</td>\n",
       "      <td>31.0</td>\n",
       "      <td>12</td>\n",
       "      <td>Sunny</td>\n",
       "    </tr>\n",
       "    <tr>\n",
       "      <th>9</th>\n",
       "      <td>21-05-2019</td>\n",
       "      <td>Navi Mumbai</td>\n",
       "      <td>25.7</td>\n",
       "      <td>6</td>\n",
       "      <td>fog</td>\n",
       "    </tr>\n",
       "    <tr>\n",
       "      <th>10</th>\n",
       "      <td>22-05-2019</td>\n",
       "      <td>Navi Mumbai</td>\n",
       "      <td>22.6</td>\n",
       "      <td>14</td>\n",
       "      <td>Snow</td>\n",
       "    </tr>\n",
       "    <tr>\n",
       "      <th>11</th>\n",
       "      <td>23-05-2019</td>\n",
       "      <td>Goa</td>\n",
       "      <td>43.0</td>\n",
       "      <td>16</td>\n",
       "      <td>Sunny</td>\n",
       "    </tr>\n",
       "    <tr>\n",
       "      <th>12</th>\n",
       "      <td>24-05-2019</td>\n",
       "      <td>Pune</td>\n",
       "      <td>30.4</td>\n",
       "      <td>12</td>\n",
       "      <td>Sunny</td>\n",
       "    </tr>\n",
       "    <tr>\n",
       "      <th>13</th>\n",
       "      <td>25-05-2019</td>\n",
       "      <td>Mumbai</td>\n",
       "      <td>10.0</td>\n",
       "      <td>15</td>\n",
       "      <td>Rain</td>\n",
       "    </tr>\n",
       "    <tr>\n",
       "      <th>14</th>\n",
       "      <td>26-05-2019</td>\n",
       "      <td>Jal gaow</td>\n",
       "      <td>6.0</td>\n",
       "      <td>9</td>\n",
       "      <td>Rain</td>\n",
       "    </tr>\n",
       "    <tr>\n",
       "      <th>15</th>\n",
       "      <td>27-05-2019</td>\n",
       "      <td>Eigat</td>\n",
       "      <td>14.0</td>\n",
       "      <td>10</td>\n",
       "      <td>Rain</td>\n",
       "    </tr>\n",
       "    <tr>\n",
       "      <th>16</th>\n",
       "      <td>28-05-2019</td>\n",
       "      <td>Eigat</td>\n",
       "      <td>42.0</td>\n",
       "      <td>3</td>\n",
       "      <td>Sunny</td>\n",
       "    </tr>\n",
       "    <tr>\n",
       "      <th>17</th>\n",
       "      <td>29-05-2019</td>\n",
       "      <td>Bhusawal</td>\n",
       "      <td>32.0</td>\n",
       "      <td>18</td>\n",
       "      <td>Sunny</td>\n",
       "    </tr>\n",
       "    <tr>\n",
       "      <th>18</th>\n",
       "      <td>30-05-2019</td>\n",
       "      <td>Pune</td>\n",
       "      <td>10.0</td>\n",
       "      <td>20</td>\n",
       "      <td>Snow</td>\n",
       "    </tr>\n",
       "  </tbody>\n",
       "</table>\n",
       "</div>"
      ],
      "text/plain": [
       "         Date          City  Temp  Wind  Event \n",
       "0   10-05-2019       Mumbai  32.0      9  Sunny\n",
       "1   12-05-2019         Pune  21.0      7   Rain\n",
       "2   14-05-2019          Goa  34.0      5  Sunny\n",
       "3   15-05-2019       Mumbai  34.5      3  Sunny\n",
       "4   16-05-2019          Goa  33.0      6   Snow\n",
       "5   17-05-2019       Nashik  22.0      8    fog\n",
       "6   18-05-2019        Ratan  34.0      9  Sunny\n",
       "7   19-05-2019         Pune  22.0      3   Rain\n",
       "8   20-05-2019       Mumbai  31.0     12  Sunny\n",
       "9   21-05-2019  Navi Mumbai  25.7      6    fog\n",
       "10  22-05-2019  Navi Mumbai  22.6     14   Snow\n",
       "11  23-05-2019          Goa  43.0     16  Sunny\n",
       "12  24-05-2019         Pune  30.4     12  Sunny\n",
       "13  25-05-2019       Mumbai  10.0     15   Rain\n",
       "14  26-05-2019     Jal gaow   6.0      9   Rain\n",
       "15  27-05-2019       Eigat   14.0     10   Rain\n",
       "16  28-05-2019       Eigat   42.0      3  Sunny\n",
       "17  29-05-2019     Bhusawal  32.0     18  Sunny\n",
       "18  30-05-2019         Pune  10.0     20   Snow"
      ]
     },
     "execution_count": 19,
     "metadata": {},
     "output_type": "execute_result"
    }
   ],
   "source": [
    "cityW"
   ]
  },
  {
   "cell_type": "code",
   "execution_count": 38,
   "metadata": {},
   "outputs": [],
   "source": [
    "gr = cityW.groupby('City')"
   ]
  },
  {
   "cell_type": "code",
   "execution_count": 39,
   "metadata": {},
   "outputs": [
    {
     "data": {
      "text/plain": [
       "<pandas.core.groupby.generic.DataFrameGroupBy object at 0x000001C95AD0BE48>"
      ]
     },
     "execution_count": 39,
     "metadata": {},
     "output_type": "execute_result"
    }
   ],
   "source": [
    "gr"
   ]
  },
  {
   "cell_type": "code",
   "execution_count": 33,
   "metadata": {},
   "outputs": [
    {
     "name": "stdout",
     "output_type": "stream",
     "text": [
      "Bhusawal\n",
      "         Date       City  Temp  Wind  Event \n",
      "17  29-05-2019  Bhusawal  32.0     18  Sunny\n",
      "Eigat \n",
      "         Date     City  Temp  Wind  Event \n",
      "15  27-05-2019  Eigat   14.0     10   Rain\n",
      "16  28-05-2019  Eigat   42.0      3  Sunny\n",
      "Goa\n",
      "         Date  City  Temp  Wind  Event \n",
      "2   14-05-2019  Goa  34.0      5  Sunny\n",
      "4   16-05-2019  Goa  33.0      6   Snow\n",
      "11  23-05-2019  Goa  43.0     16  Sunny\n",
      "Jal gaow\n",
      "         Date       City  Temp  Wind  Event \n",
      "14  26-05-2019  Jal gaow   6.0      9   Rain\n",
      "Mumbai\n",
      "         Date     City  Temp  Wind  Event \n",
      "0   10-05-2019  Mumbai  32.0      9  Sunny\n",
      "3   15-05-2019  Mumbai  34.5      3  Sunny\n",
      "8   20-05-2019  Mumbai  31.0     12  Sunny\n",
      "13  25-05-2019  Mumbai  10.0     15   Rain\n",
      "Nashik\n",
      "        Date     City  Temp  Wind  Event \n",
      "5  17-05-2019  Nashik  22.0      8    fog\n",
      "Navi Mumbai\n",
      "         Date          City  Temp  Wind  Event \n",
      "9   21-05-2019  Navi Mumbai  25.7      6    fog\n",
      "10  22-05-2019  Navi Mumbai  22.6     14   Snow\n",
      "Pune\n",
      "         Date   City  Temp  Wind  Event \n",
      "1   12-05-2019  Pune  21.0      7   Rain\n",
      "7   19-05-2019  Pune  22.0      3   Rain\n",
      "12  24-05-2019  Pune  30.4     12  Sunny\n",
      "18  30-05-2019  Pune  10.0     20   Snow\n",
      "Ratan\n",
      "        Date    City  Temp  Wind  Event \n",
      "6  18-05-2019  Ratan  34.0      9  Sunny\n"
     ]
    }
   ],
   "source": [
    "for name, gr in gr:\n",
    "    print(name)\n",
    "    print(gr)"
   ]
  },
  {
   "cell_type": "code",
   "execution_count": 40,
   "metadata": {},
   "outputs": [
    {
     "data": {
      "text/plain": [
       "<pandas.core.groupby.generic.DataFrameGroupBy object at 0x000001C95AD0BE48>"
      ]
     },
     "execution_count": 40,
     "metadata": {},
     "output_type": "execute_result"
    }
   ],
   "source": [
    "# gr.describe()\n",
    "gr"
   ]
  },
  {
   "cell_type": "code",
   "execution_count": 41,
   "metadata": {},
   "outputs": [
    {
     "data": {
      "text/html": [
       "<div>\n",
       "<style scoped>\n",
       "    .dataframe tbody tr th:only-of-type {\n",
       "        vertical-align: middle;\n",
       "    }\n",
       "\n",
       "    .dataframe tbody tr th {\n",
       "        vertical-align: top;\n",
       "    }\n",
       "\n",
       "    .dataframe thead tr th {\n",
       "        text-align: left;\n",
       "    }\n",
       "\n",
       "    .dataframe thead tr:last-of-type th {\n",
       "        text-align: right;\n",
       "    }\n",
       "</style>\n",
       "<table border=\"1\" class=\"dataframe\">\n",
       "  <thead>\n",
       "    <tr>\n",
       "      <th></th>\n",
       "      <th colspan=\"8\" halign=\"left\">Temp</th>\n",
       "      <th colspan=\"8\" halign=\"left\">Wind</th>\n",
       "    </tr>\n",
       "    <tr>\n",
       "      <th></th>\n",
       "      <th>count</th>\n",
       "      <th>mean</th>\n",
       "      <th>std</th>\n",
       "      <th>min</th>\n",
       "      <th>25%</th>\n",
       "      <th>50%</th>\n",
       "      <th>75%</th>\n",
       "      <th>max</th>\n",
       "      <th>count</th>\n",
       "      <th>mean</th>\n",
       "      <th>std</th>\n",
       "      <th>min</th>\n",
       "      <th>25%</th>\n",
       "      <th>50%</th>\n",
       "      <th>75%</th>\n",
       "      <th>max</th>\n",
       "    </tr>\n",
       "    <tr>\n",
       "      <th>City</th>\n",
       "      <th></th>\n",
       "      <th></th>\n",
       "      <th></th>\n",
       "      <th></th>\n",
       "      <th></th>\n",
       "      <th></th>\n",
       "      <th></th>\n",
       "      <th></th>\n",
       "      <th></th>\n",
       "      <th></th>\n",
       "      <th></th>\n",
       "      <th></th>\n",
       "      <th></th>\n",
       "      <th></th>\n",
       "      <th></th>\n",
       "      <th></th>\n",
       "    </tr>\n",
       "  </thead>\n",
       "  <tbody>\n",
       "    <tr>\n",
       "      <th>Bhusawal</th>\n",
       "      <td>1.0</td>\n",
       "      <td>32.000000</td>\n",
       "      <td>NaN</td>\n",
       "      <td>32.0</td>\n",
       "      <td>32.000</td>\n",
       "      <td>32.00</td>\n",
       "      <td>32.000</td>\n",
       "      <td>32.0</td>\n",
       "      <td>1.0</td>\n",
       "      <td>18.00</td>\n",
       "      <td>NaN</td>\n",
       "      <td>18.0</td>\n",
       "      <td>18.00</td>\n",
       "      <td>18.0</td>\n",
       "      <td>18.00</td>\n",
       "      <td>18.0</td>\n",
       "    </tr>\n",
       "    <tr>\n",
       "      <th>Eigat</th>\n",
       "      <td>2.0</td>\n",
       "      <td>28.000000</td>\n",
       "      <td>19.798990</td>\n",
       "      <td>14.0</td>\n",
       "      <td>21.000</td>\n",
       "      <td>28.00</td>\n",
       "      <td>35.000</td>\n",
       "      <td>42.0</td>\n",
       "      <td>2.0</td>\n",
       "      <td>6.50</td>\n",
       "      <td>4.949747</td>\n",
       "      <td>3.0</td>\n",
       "      <td>4.75</td>\n",
       "      <td>6.5</td>\n",
       "      <td>8.25</td>\n",
       "      <td>10.0</td>\n",
       "    </tr>\n",
       "    <tr>\n",
       "      <th>Goa</th>\n",
       "      <td>3.0</td>\n",
       "      <td>36.666667</td>\n",
       "      <td>5.507571</td>\n",
       "      <td>33.0</td>\n",
       "      <td>33.500</td>\n",
       "      <td>34.00</td>\n",
       "      <td>38.500</td>\n",
       "      <td>43.0</td>\n",
       "      <td>3.0</td>\n",
       "      <td>9.00</td>\n",
       "      <td>6.082763</td>\n",
       "      <td>5.0</td>\n",
       "      <td>5.50</td>\n",
       "      <td>6.0</td>\n",
       "      <td>11.00</td>\n",
       "      <td>16.0</td>\n",
       "    </tr>\n",
       "    <tr>\n",
       "      <th>Jal gaow</th>\n",
       "      <td>1.0</td>\n",
       "      <td>6.000000</td>\n",
       "      <td>NaN</td>\n",
       "      <td>6.0</td>\n",
       "      <td>6.000</td>\n",
       "      <td>6.00</td>\n",
       "      <td>6.000</td>\n",
       "      <td>6.0</td>\n",
       "      <td>1.0</td>\n",
       "      <td>9.00</td>\n",
       "      <td>NaN</td>\n",
       "      <td>9.0</td>\n",
       "      <td>9.00</td>\n",
       "      <td>9.0</td>\n",
       "      <td>9.00</td>\n",
       "      <td>9.0</td>\n",
       "    </tr>\n",
       "    <tr>\n",
       "      <th>Mumbai</th>\n",
       "      <td>4.0</td>\n",
       "      <td>26.875000</td>\n",
       "      <td>11.345888</td>\n",
       "      <td>10.0</td>\n",
       "      <td>25.750</td>\n",
       "      <td>31.50</td>\n",
       "      <td>32.625</td>\n",
       "      <td>34.5</td>\n",
       "      <td>4.0</td>\n",
       "      <td>9.75</td>\n",
       "      <td>5.123475</td>\n",
       "      <td>3.0</td>\n",
       "      <td>7.50</td>\n",
       "      <td>10.5</td>\n",
       "      <td>12.75</td>\n",
       "      <td>15.0</td>\n",
       "    </tr>\n",
       "    <tr>\n",
       "      <th>Nashik</th>\n",
       "      <td>1.0</td>\n",
       "      <td>22.000000</td>\n",
       "      <td>NaN</td>\n",
       "      <td>22.0</td>\n",
       "      <td>22.000</td>\n",
       "      <td>22.00</td>\n",
       "      <td>22.000</td>\n",
       "      <td>22.0</td>\n",
       "      <td>1.0</td>\n",
       "      <td>8.00</td>\n",
       "      <td>NaN</td>\n",
       "      <td>8.0</td>\n",
       "      <td>8.00</td>\n",
       "      <td>8.0</td>\n",
       "      <td>8.00</td>\n",
       "      <td>8.0</td>\n",
       "    </tr>\n",
       "    <tr>\n",
       "      <th>Navi Mumbai</th>\n",
       "      <td>2.0</td>\n",
       "      <td>24.150000</td>\n",
       "      <td>2.192031</td>\n",
       "      <td>22.6</td>\n",
       "      <td>23.375</td>\n",
       "      <td>24.15</td>\n",
       "      <td>24.925</td>\n",
       "      <td>25.7</td>\n",
       "      <td>2.0</td>\n",
       "      <td>10.00</td>\n",
       "      <td>5.656854</td>\n",
       "      <td>6.0</td>\n",
       "      <td>8.00</td>\n",
       "      <td>10.0</td>\n",
       "      <td>12.00</td>\n",
       "      <td>14.0</td>\n",
       "    </tr>\n",
       "    <tr>\n",
       "      <th>Pune</th>\n",
       "      <td>4.0</td>\n",
       "      <td>20.850000</td>\n",
       "      <td>8.371977</td>\n",
       "      <td>10.0</td>\n",
       "      <td>18.250</td>\n",
       "      <td>21.50</td>\n",
       "      <td>24.100</td>\n",
       "      <td>30.4</td>\n",
       "      <td>4.0</td>\n",
       "      <td>10.50</td>\n",
       "      <td>7.325754</td>\n",
       "      <td>3.0</td>\n",
       "      <td>6.00</td>\n",
       "      <td>9.5</td>\n",
       "      <td>14.00</td>\n",
       "      <td>20.0</td>\n",
       "    </tr>\n",
       "    <tr>\n",
       "      <th>Ratan</th>\n",
       "      <td>1.0</td>\n",
       "      <td>34.000000</td>\n",
       "      <td>NaN</td>\n",
       "      <td>34.0</td>\n",
       "      <td>34.000</td>\n",
       "      <td>34.00</td>\n",
       "      <td>34.000</td>\n",
       "      <td>34.0</td>\n",
       "      <td>1.0</td>\n",
       "      <td>9.00</td>\n",
       "      <td>NaN</td>\n",
       "      <td>9.0</td>\n",
       "      <td>9.00</td>\n",
       "      <td>9.0</td>\n",
       "      <td>9.00</td>\n",
       "      <td>9.0</td>\n",
       "    </tr>\n",
       "  </tbody>\n",
       "</table>\n",
       "</div>"
      ],
      "text/plain": [
       "             Temp                                                           \\\n",
       "            count       mean        std   min     25%    50%     75%   max   \n",
       "City                                                                         \n",
       "Bhusawal      1.0  32.000000        NaN  32.0  32.000  32.00  32.000  32.0   \n",
       "Eigat         2.0  28.000000  19.798990  14.0  21.000  28.00  35.000  42.0   \n",
       "Goa           3.0  36.666667   5.507571  33.0  33.500  34.00  38.500  43.0   \n",
       "Jal gaow      1.0   6.000000        NaN   6.0   6.000   6.00   6.000   6.0   \n",
       "Mumbai        4.0  26.875000  11.345888  10.0  25.750  31.50  32.625  34.5   \n",
       "Nashik        1.0  22.000000        NaN  22.0  22.000  22.00  22.000  22.0   \n",
       "Navi Mumbai   2.0  24.150000   2.192031  22.6  23.375  24.15  24.925  25.7   \n",
       "Pune          4.0  20.850000   8.371977  10.0  18.250  21.50  24.100  30.4   \n",
       "Ratan         1.0  34.000000        NaN  34.0  34.000  34.00  34.000  34.0   \n",
       "\n",
       "            Wind                                                    \n",
       "            count   mean       std   min    25%   50%    75%   max  \n",
       "City                                                                \n",
       "Bhusawal      1.0  18.00       NaN  18.0  18.00  18.0  18.00  18.0  \n",
       "Eigat         2.0   6.50  4.949747   3.0   4.75   6.5   8.25  10.0  \n",
       "Goa           3.0   9.00  6.082763   5.0   5.50   6.0  11.00  16.0  \n",
       "Jal gaow      1.0   9.00       NaN   9.0   9.00   9.0   9.00   9.0  \n",
       "Mumbai        4.0   9.75  5.123475   3.0   7.50  10.5  12.75  15.0  \n",
       "Nashik        1.0   8.00       NaN   8.0   8.00   8.0   8.00   8.0  \n",
       "Navi Mumbai   2.0  10.00  5.656854   6.0   8.00  10.0  12.00  14.0  \n",
       "Pune          4.0  10.50  7.325754   3.0   6.00   9.5  14.00  20.0  \n",
       "Ratan         1.0   9.00       NaN   9.0   9.00   9.0   9.00   9.0  "
      ]
     },
     "execution_count": 41,
     "metadata": {},
     "output_type": "execute_result"
    }
   ],
   "source": [
    "gr.describe()"
   ]
  },
  {
   "cell_type": "code",
   "execution_count": 42,
   "metadata": {},
   "outputs": [
    {
     "name": "stderr",
     "output_type": "stream",
     "text": [
      "C:\\Users\\mantiwar\\AppData\\Local\\Continuum\\anaconda3\\lib\\site-packages\\pandas\\plotting\\_core.py:1001: UserWarning: Attempting to set identical left==right results\n",
      "in singular transformations; automatically expanding.\n",
      "left=17.0, right=17.0\n",
      "  ax.set_xlim(left, right)\n",
      "C:\\Users\\mantiwar\\AppData\\Local\\Continuum\\anaconda3\\lib\\site-packages\\pandas\\plotting\\_core.py:1001: UserWarning: Attempting to set identical left==right results\n",
      "in singular transformations; automatically expanding.\n",
      "left=14.0, right=14.0\n",
      "  ax.set_xlim(left, right)\n",
      "C:\\Users\\mantiwar\\AppData\\Local\\Continuum\\anaconda3\\lib\\site-packages\\pandas\\plotting\\_core.py:1001: UserWarning: Attempting to set identical left==right results\n",
      "in singular transformations; automatically expanding.\n",
      "left=5.0, right=5.0\n",
      "  ax.set_xlim(left, right)\n",
      "C:\\Users\\mantiwar\\AppData\\Local\\Continuum\\anaconda3\\lib\\site-packages\\pandas\\plotting\\_core.py:1001: UserWarning: Attempting to set identical left==right results\n",
      "in singular transformations; automatically expanding.\n",
      "left=6.0, right=6.0\n",
      "  ax.set_xlim(left, right)\n"
     ]
    },
    {
     "data": {
      "text/plain": [
       "City\n",
       "Bhusawal       AxesSubplot(0.125,0.125;0.775x0.755)\n",
       "Eigat          AxesSubplot(0.125,0.125;0.775x0.755)\n",
       "Goa            AxesSubplot(0.125,0.125;0.775x0.755)\n",
       "Jal gaow       AxesSubplot(0.125,0.125;0.775x0.755)\n",
       "Mumbai         AxesSubplot(0.125,0.125;0.775x0.755)\n",
       "Nashik         AxesSubplot(0.125,0.125;0.775x0.755)\n",
       "Navi Mumbai    AxesSubplot(0.125,0.125;0.775x0.755)\n",
       "Pune           AxesSubplot(0.125,0.125;0.775x0.755)\n",
       "Ratan          AxesSubplot(0.125,0.125;0.775x0.755)\n",
       "dtype: object"
      ]
     },
     "execution_count": 42,
     "metadata": {},
     "output_type": "execute_result"
    },
    {
     "data": {
      "image/png": "[encoded data removed]",
      "text/plain": [
       "<Figure size 432x288 with 1 Axes>"
      ]
     },
     "metadata": {
      "needs_background": "light"
     },
     "output_type": "display_data"
    },
    {
     "data": {
      "image/png": "[encoded data removed]",
      "text/plain": [
       "<Figure size 432x288 with 1 Axes>"
      ]
     },
     "metadata": {
      "needs_background": "light"
     },
     "output_type": "display_data"
    },
    {
     "data": {
      "image/png": "[encoded data removed]",
      "text/plain": [
       "<Figure size 432x288 with 1 Axes>"
      ]
     },
     "metadata": {
      "needs_background": "light"
     },
     "output_type": "display_data"
    },
    {
     "data": {
      "image/png": "[encoded data removed]",
      "text/plain": [
       "<Figure size 432x288 with 1 Axes>"
      ]
     },
     "metadata": {
      "needs_background": "light"
     },
     "output_type": "display_data"
    },
    {
     "data": {
      "image/png": "[encoded data removed]",
      "text/plain": [
       "<Figure size 432x288 with 1 Axes>"
      ]
     },
     "metadata": {
      "needs_background": "light"
     },
     "output_type": "display_data"
    },
    {
     "data": {
      "image/png": "[encoded data removed]",
      "text/plain": [
       "<Figure size 432x288 with 1 Axes>"
      ]
     },
     "metadata": {
      "needs_background": "light"
     },
     "output_type": "display_data"
    },
    {
     "data": {
      "image/png": "[encoded data removed]",
      "text/plain": [
       "<Figure size 432x288 with 1 Axes>"
      ]
     },
     "metadata": {
      "needs_background": "light"
     },
     "output_type": "display_data"
    },
    {
     "data": {
      "image/png": "[encoded data removed]",
      "text/plain": [
       "<Figure size 432x288 with 1 Axes>"
      ]
     },
     "metadata": {
      "needs_background": "light"
     },
     "output_type": "display_data"
    },
    {
     "data": {
      "image/png": "[encoded data removed]",
      "text/plain": [
       "<Figure size 432x288 with 1 Axes>"
      ]
     },
     "metadata": {
      "needs_background": "light"
     },
     "output_type": "display_data"
    }
   ],
   "source": [
    "%matplotlib inline\n",
    "gr.plot()"
   ]
  }
 ],
 "metadata": {
  "kernelspec": {
   "display_name": "Python 3",
   "language": "python",
   "name": "python3"
  },
  "language_info": {
   "codemirror_mode": {
    "name": "ipython",
    "version": 3
   },
   "file_extension": ".py",
   "mimetype": "text/x-python",
   "name": "python",
   "nbconvert_exporter": "python",
   "pygments_lexer": "ipython3",
   "version": "3.7.3"
  }
 },
 "nbformat": 4,
 "nbformat_minor": 2
}
