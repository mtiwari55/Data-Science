{
 "cells": [
  {
   "cell_type": "markdown",
   "metadata": {},
   "source": [
    "# basic information of NumPy "
   ]
  },
  {
   "cell_type": "markdown",
   "metadata": {},
   "source": [
    "**dtype : It return the data types. Size of data ( Number of bytes)**"
   ]
  },
  {
   "cell_type": "markdown",
   "metadata": {},
   "source": [
    " **dtype of references**"
   ]
  },
  {
   "cell_type": "markdown",
   "metadata": {},
   "source": [
    "**Bool : Boolean (True or False )stored as byte** "
   ]
  },
  {
   "cell_type": "markdown",
   "metadata": {},
   "source": [
    "**int : Default integer type(int32 , int64)**"
   ]
  },
  {
   "cell_type": "markdown",
   "metadata": {},
   "source": [
    "**int8 : byte (-128 to 127)**"
   ]
  },
  {
   "cell_type": "markdown",
   "metadata": {},
   "source": [
    "**int16 : byte -32768 to 32767 and etc int32 ,int64**"
   ]
  },
  {
   "cell_type": "markdown",
   "metadata": {},
   "source": [
    "**uinit8 : unsinges integer ( 0 to 255)**"
   ]
  },
  {
   "cell_type": "markdown",
   "metadata": {},
   "source": [
    "**uinit16 : unsinges integer ( 0 to 655355) and uint32,uint64**"
   ]
  },
  {
   "cell_type": "markdown",
   "metadata": {},
   "source": [
    "**float : Shorthand for float 64 and float16 , float32**"
   ]
  },
  {
   "cell_type": "markdown",
   "metadata": {},
   "source": [
    "# **Install NumPy : pip install numpy**"
   ]
  },
  {
   "cell_type": "code",
   "execution_count": null,
   "metadata": {},
   "outputs": [],
   "source": []
  }
 ],
 "metadata": {
  "kernelspec": {
   "display_name": "Python 3",
   "language": "python",
   "name": "python3"
  },
  "language_info": {
   "codemirror_mode": {
    "name": "ipython",
    "version": 3
   },
   "file_extension": ".py",
   "mimetype": "text/x-python",
   "name": "python",
   "nbconvert_exporter": "python",
   "pygments_lexer": "ipython3",
   "version": "3.7.3"
  }
 },
 "nbformat": 4,
 "nbformat_minor": 2
}
