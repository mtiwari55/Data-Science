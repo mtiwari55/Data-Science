{
 "cells": [
  {
   "cell_type": "code",
   "execution_count": 2,
   "metadata": {},
   "outputs": [
    {
     "name": "stdout",
     "output_type": "stream",
     "text": [
      "Manish Tiwari Navi mumbai\n"
     ]
    }
   ],
   "source": [
    "# string ESCAPE funtion\n",
    "\n",
    "# \\n leave new line\n",
    "# \\t tab space\n",
    "# r print  same string \n",
    "\n",
    "details = \"Manish Tiwari Navi mumbai\"\n",
    "print(details)"
   ]
  },
  {
   "cell_type": "code",
   "execution_count": 4,
   "metadata": {},
   "outputs": [
    {
     "name": "stdout",
     "output_type": "stream",
     "text": [
      "Manish Tiwari \n",
      "Navi Mumbai\n"
     ]
    }
   ],
   "source": [
    " print(\"Manish Tiwari \\nNavi Mumbai\")"
   ]
  },
  {
   "cell_type": "code",
   "execution_count": 7,
   "metadata": {},
   "outputs": [
    {
     "name": "stdout",
     "output_type": "stream",
     "text": [
      "Manish Tiwari \\nNavi Mumbai\n"
     ]
    }
   ],
   "source": [
    "print(r'Manish Tiwari \\nNavi Mumbai')"
   ]
  },
  {
   "cell_type": "code",
   "execution_count": null,
   "metadata": {},
   "outputs": [],
   "source": []
  }
 ],
 "metadata": {
  "kernelspec": {
   "display_name": "Python 3",
   "language": "python",
   "name": "python3"
  },
  "language_info": {
   "codemirror_mode": {
    "name": "ipython",
    "version": 3
   },
   "file_extension": ".py",
   "mimetype": "text/x-python",
   "name": "python",
   "nbconvert_exporter": "python",
   "pygments_lexer": "ipython3",
   "version": "3.7.3"
  }
 },
 "nbformat": 4,
 "nbformat_minor": 2
}
