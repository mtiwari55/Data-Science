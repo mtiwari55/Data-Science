{
 "cells": [
  {
   "cell_type": "code",
   "execution_count": 2,
   "metadata": {},
   "outputs": [
    {
     "name": "stdout",
     "output_type": "stream",
     "text": [
      "[]\n",
      "[]\n"
     ]
    }
   ],
   "source": [
    "# List is collection , It is ordered and changeable\n",
    "\n",
    "# Create empty list \n",
    "\n",
    "empt_list =[]\n",
    "print(empt_list)\n",
    "\n",
    "# another way to create list\n",
    "\n",
    "empt_list1 = list()\n",
    "print(empt_list1)"
   ]
  },
  {
   "cell_type": "code",
   "execution_count": 4,
   "metadata": {},
   "outputs": [
    {
     "name": "stdout",
     "output_type": "stream",
     "text": [
      "['Mumbai', 'Goa', 'Pune', 'Nagapur', 'Solapur']\n"
     ]
    }
   ],
   "source": [
    "# Create list\n",
    "\n",
    "states = [\"Mumbai\" , \"Goa\" ,\"Pune\" ,\"Nagapur\",\"Solapur\"]\n",
    "print(states)"
   ]
  },
  {
   "cell_type": "code",
   "execution_count": 5,
   "metadata": {},
   "outputs": [
    {
     "name": "stdout",
     "output_type": "stream",
     "text": [
      "['Mumbai', 'Goa', 'Pune', 'Nagapur', 'Solapur', 'Nashik']\n"
     ]
    }
   ],
   "source": [
    "# add new items in list\n",
    "\n",
    "#  append method add new item in list at the last postion\n",
    "\n",
    "states.append(\"Nashik\")\n",
    "print(states)"
   ]
  },
  {
   "cell_type": "code",
   "execution_count": 7,
   "metadata": {},
   "outputs": [
    {
     "name": "stdout",
     "output_type": "stream",
     "text": [
      "['Mumbai', 'Goa', 'Pune', 'Nagapur', 'Solapur', 'Nashik', 'Satar', 'Navi Mumbai', 'Panvel']\n"
     ]
    }
   ],
   "source": [
    "\n",
    "# add multiple items\n",
    "\n",
    "# extend method add multiple items in the last postion\n",
    "\n",
    "states.extend([\"Satar\" ,\"Navi Mumbai\" ,\"Panvel\"])\n",
    "print(states)"
   ]
  },
  {
   "cell_type": "code",
   "execution_count": 11,
   "metadata": {},
   "outputs": [
    {
     "name": "stdout",
     "output_type": "stream",
     "text": [
      "['Chemure', 'Chemure', 'Mumbai', 'Goa', 'Pune', 'Nagapur', 'Solapur', 'Nashik', 'Satar', 'Navi Mumbai', 'Panvel']\n"
     ]
    }
   ],
   "source": [
    "# add value base on potions\n",
    "\n",
    "# insert method allow to add item with the help of postions\n",
    "\n",
    "states.insert(0, \"Chemure\")\n",
    "print(states)"
   ]
  },
  {
   "cell_type": "code",
   "execution_count": 13,
   "metadata": {},
   "outputs": [
    {
     "name": "stdout",
     "output_type": "stream",
     "text": [
      "['Chemure', 'Mumbai', 'Goa', 'Pune', 'Nagapur', 'Solapur', 'Nashik', 'Satar', 'Navi Mumbai']\n"
     ]
    }
   ],
   "source": [
    "# remove \n",
    "\n",
    "# pop method remove item with help of index or postion number\n",
    "\n",
    "# pop method return values\n",
    "states.pop(1)\n",
    "print(states)"
   ]
  },
  {
   "cell_type": "code",
   "execution_count": 22,
   "metadata": {},
   "outputs": [
    {
     "name": "stdout",
     "output_type": "stream",
     "text": [
      "6\n"
     ]
    }
   ],
   "source": [
    "# how to remove second last item \n",
    "\n",
    "lent = len(states)\n",
    "print(lent)"
   ]
  },
  {
   "cell_type": "code",
   "execution_count": 23,
   "metadata": {},
   "outputs": [
    {
     "data": {
      "text/plain": [
       "'Nashik'"
      ]
     },
     "execution_count": 23,
     "metadata": {},
     "output_type": "execute_result"
    }
   ],
   "source": [
    "states.pop(lent-2)\n"
   ]
  },
  {
   "cell_type": "code",
   "execution_count": 19,
   "metadata": {},
   "outputs": [
    {
     "name": "stdout",
     "output_type": "stream",
     "text": [
      "['Goa', 'Pune', 'Nagapur', 'Solapur', 'Nashik', 'Navi Mumbai']\n"
     ]
    }
   ],
   "source": [
    "# del stand for delete method\n",
    "\n",
    "# it do not return values\n",
    "del states[0]\n",
    "print(states)"
   ]
  },
  {
   "cell_type": "code",
   "execution_count": 25,
   "metadata": {},
   "outputs": [
    {
     "name": "stdout",
     "output_type": "stream",
     "text": [
      "['Goa Mumbai', 'Pune', 'Nagapur', 'Solapur', 'Navi Mumbai']\n"
     ]
    }
   ],
   "source": [
    "# Replace \n",
    "\n",
    "states[0] = \"Goa Mumbai\"\n",
    "print(states)"
   ]
  },
  {
   "cell_type": "code",
   "execution_count": 27,
   "metadata": {},
   "outputs": [
    {
     "data": {
      "text/plain": [
       "1"
      ]
     },
     "execution_count": 27,
     "metadata": {},
     "output_type": "execute_result"
    }
   ],
   "source": [
    "# count method\n",
    "\n",
    "# count method return duplict items count and indivisual item\n",
    "states.count(\"Pune\")\n"
   ]
  },
  {
   "cell_type": "code",
   "execution_count": 31,
   "metadata": {},
   "outputs": [
    {
     "data": {
      "text/plain": [
       "['Goa Mumbai']"
      ]
     },
     "execution_count": 31,
     "metadata": {},
     "output_type": "execute_result"
    }
   ],
   "source": [
    "# slicing  [ start: end, end:start]\n",
    "states[1:5]\n",
    "states[:-4]"
   ]
  },
  {
   "cell_type": "code",
   "execution_count": 33,
   "metadata": {},
   "outputs": [
    {
     "name": "stdout",
     "output_type": "stream",
     "text": [
      "['Goa Mumbai', 'Nagapur', 'Navi Mumbai', 'Pune', 'Solapur']\n"
     ]
    }
   ],
   "source": [
    "# sorting ascending and descending\n",
    "\n",
    "# ascending  but it does not return list\n",
    "states.sort()\n",
    "print(states)"
   ]
  },
  {
   "cell_type": "code",
   "execution_count": 38,
   "metadata": {},
   "outputs": [
    {
     "data": {
      "text/plain": [
       "['Solapur', 'Pune', 'Navi Mumbai', 'Nagapur', 'Goa Mumbai']"
      ]
     },
     "execution_count": 38,
     "metadata": {},
     "output_type": "execute_result"
    }
   ],
   "source": [
    "# descending \n",
    "\n",
    "list(reversed(states))\n",
    "\n",
    "#states.reversed()"
   ]
  },
  {
   "cell_type": "code",
   "execution_count": 40,
   "metadata": {},
   "outputs": [
    {
     "data": {
      "text/plain": [
       "['Goa Mumbai', 'Nagapur', 'Navi Mumbai', 'Pune', 'Solapur']"
      ]
     },
     "execution_count": 40,
     "metadata": {},
     "output_type": "execute_result"
    }
   ],
   "source": [
    "\n",
    "# asending and return list\n",
    "\n",
    "sorted(states)"
   ]
  },
  {
   "cell_type": "code",
   "execution_count": null,
   "metadata": {},
   "outputs": [],
   "source": []
  }
 ],
 "metadata": {
  "kernelspec": {
   "display_name": "Python 3",
   "language": "python",
   "name": "python3"
  },
  "language_info": {
   "codemirror_mode": {
    "name": "ipython",
    "version": 3
   },
   "file_extension": ".py",
   "mimetype": "text/x-python",
   "name": "python",
   "nbconvert_exporter": "python",
   "pygments_lexer": "ipython3",
   "version": "3.7.3"
  }
 },
 "nbformat": 4,
 "nbformat_minor": 2
}
