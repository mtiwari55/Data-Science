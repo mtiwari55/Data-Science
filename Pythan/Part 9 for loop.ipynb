{
 "cells": [
  {
   "cell_type": "code",
   "execution_count": 2,
   "metadata": {},
   "outputs": [
    {
     "name": "stdout",
     "output_type": "stream",
     "text": [
      "0\n",
      "1\n",
      "2\n",
      "3\n",
      "4\n",
      "5\n"
     ]
    }
   ],
   "source": [
    "# for loop\n",
    "\n",
    "# normal for loop\n",
    "\n",
    "for i in range(0,6):\n",
    "    print(i)"
   ]
  },
  {
   "cell_type": "code",
   "execution_count": 5,
   "metadata": {},
   "outputs": [
    {
     "name": "stdout",
     "output_type": "stream",
     "text": [
      "sorry 0\n",
      "sorry 1\n",
      "sorry 2\n",
      "sorry 3\n",
      "sorry 4\n",
      "geate work : 5\n",
      "wlecome 6\n",
      "wlecome 7\n",
      "wlecome 8\n",
      "wlecome 9\n"
     ]
    }
   ],
   "source": [
    "# for loop with condition\n",
    "\n",
    "for j in range(0,10):\n",
    "    if j == 5:\n",
    "        print(\"geate work : \"+ str(j))\n",
    "    elif j > 5:\n",
    "        print(\"wlecome \" + str(j))\n",
    "    else:\n",
    "        print(\"sorry \" + str(j))"
   ]
  },
  {
   "cell_type": "code",
   "execution_count": null,
   "metadata": {},
   "outputs": [],
   "source": []
  }
 ],
 "metadata": {
  "kernelspec": {
   "display_name": "Python 3",
   "language": "python",
   "name": "python3"
  },
  "language_info": {
   "codemirror_mode": {
    "name": "ipython",
    "version": 3
   },
   "file_extension": ".py",
   "mimetype": "text/x-python",
   "name": "python",
   "nbconvert_exporter": "python",
   "pygments_lexer": "ipython3",
   "version": "3.7.3"
  }
 },
 "nbformat": 4,
 "nbformat_minor": 2
}
